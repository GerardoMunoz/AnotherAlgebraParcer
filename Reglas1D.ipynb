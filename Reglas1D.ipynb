{
 "cells": [
  {
   "cell_type": "code",
   "execution_count": 44,
   "metadata": {},
   "outputs": [
    {
     "data": {
      "text/plain": [
       "'0 0 0 0 P4 P5 P6 P7 P8 P9 0 0 0 0\\n0 0 0 0 P4,E4 P5 P6 P7 P8 P9,E9 0 0 0 0\\n0 0 0 0 P4,E4 P5,B4 P6 P7 P8,B9 P9,E9 0 0 0 0\\n0 0 0 0 P4,E4 P5,B4 P6,B4 P7,B9 P8,B9 P9,E9 0 0 0 0\\n0 0 0 0 P4,E4 P5,B4 P6,B4,L9 P7,B9,L4 P8,B9 P9,E9 0 0 0 0\\n0 0 0 0 P4,E4 P5,B4,L9 P6,B4,L9 P7,B9,L4 P8,B9,L4 P9,E9 0 0 0 0\\n0 0 0 0 P4,E4,L9 P5,B4,L9 P6,B4,L9 P7,B9,L4 P8,B9,L4 P9,E9,L4 0 0 0 0\\n0 0 0 0 P4,E4,L9 P5,B4,L9 P6,B4,L9 P7,B9,L4 P8,B9,L4 P9,E9,L4 0 0 0 0'"
      ]
     },
     "execution_count": 44,
     "metadata": {},
     "output_type": "execute_result"
    }
   ],
   "source": [
    "ejemplo=\"\"\"0 0 0 0 P4 P5 P6 P7 P8 P9 0 0 0 0\n",
    "0 0 0 0 P4,E4 P5 P6 P7 P8 P9,E9 0 0 0 0\n",
    "0 0 0 0 P4,E4 P5,B4 P6 P7 P8,B9 P9,E9 0 0 0 0\n",
    "0 0 0 0 P4,E4 P5,B4 P6,B4 P7,B9 P8,B9 P9,E9 0 0 0 0\n",
    "0 0 0 0 P4,E4 P5,B4 P6,B4,L9 P7,B9,L4 P8,B9 P9,E9 0 0 0 0\n",
    "0 0 0 0 P4,E4 P5,B4,L9 P6,B4,L9 P7,B9,L4 P8,B9,L4 P9,E9 0 0 0 0\n",
    "0 0 0 0 P4,E4,L9 P5,B4,L9 P6,B4,L9 P7,B9,L4 P8,B9,L4 P9,E9,L4 0 0 0 0\n",
    "0 0 0 0 P4,E4,L9 P5,B4,L9 P6,B4,L9 P7,B9,L4 P8,B9,L4 P9,E9,L4 0 0 0 0\"\"\"\n",
    "\n",
    "ejemplo"
   ]
  },
  {
   "cell_type": "code",
   "execution_count": 45,
   "metadata": {},
   "outputs": [
    {
     "data": {
      "text/plain": [
       "['0 0 0 0 P4 P5 P6 P7 P8 P9 0 0 0 0',\n",
       " '0 0 0 0 P4,E4 P5 P6 P7 P8 P9,E9 0 0 0 0',\n",
       " '0 0 0 0 P4,E4 P5,B4 P6 P7 P8,B9 P9,E9 0 0 0 0',\n",
       " '0 0 0 0 P4,E4 P5,B4 P6,B4 P7,B9 P8,B9 P9,E9 0 0 0 0',\n",
       " '0 0 0 0 P4,E4 P5,B4 P6,B4,L9 P7,B9,L4 P8,B9 P9,E9 0 0 0 0',\n",
       " '0 0 0 0 P4,E4 P5,B4,L9 P6,B4,L9 P7,B9,L4 P8,B9,L4 P9,E9 0 0 0 0',\n",
       " '0 0 0 0 P4,E4,L9 P5,B4,L9 P6,B4,L9 P7,B9,L4 P8,B9,L4 P9,E9,L4 0 0 0 0',\n",
       " '0 0 0 0 P4,E4,L9 P5,B4,L9 P6,B4,L9 P7,B9,L4 P8,B9,L4 P9,E9,L4 0 0 0 0']"
      ]
     },
     "execution_count": 45,
     "metadata": {},
     "output_type": "execute_result"
    }
   ],
   "source": [
    "ejemplo1=ejemplo.split('\\n')\n",
    "#dat\n",
    "ejemplo1\n"
   ]
  },
  {
   "cell_type": "code",
   "execution_count": 46,
   "metadata": {},
   "outputs": [],
   "source": [
    "#ejemplo2=[e.split() for e in ejemplo1]\n",
    "#ejemplo2"
   ]
  },
  {
   "cell_type": "code",
   "execution_count": 47,
   "metadata": {},
   "outputs": [
    {
     "name": "stdout",
     "output_type": "stream",
     "text": [
      "8 14 1\n"
     ]
    }
   ],
   "source": [
    "ejemplo3=[[b.split(',') for b in a.split()] for a in ejemplo.split('\\n')]\n",
    "print(len(ejemplo3),len(ejemplo3[0]),len(ejemplo3[0][0]))"
   ]
  },
  {
   "cell_type": "code",
   "execution_count": 48,
   "metadata": {},
   "outputs": [
    {
     "name": "stdout",
     "output_type": "stream",
     "text": [
      "Se adiciona ('0', 'P', 'P') E\n",
      "Se adiciona ('P', 'P', '0') E\n",
      "Se adiciona ('E', 'P', 'P') B\n",
      "Se adiciona ('P', 'P', 'E') B\n",
      "Se adiciona ('B', 'P', 'P') B\n",
      "Se adiciona ('P', 'P', 'B') B\n",
      "Se adiciona ('B', 'B', 'B') L\n",
      "Ya existe ('B', 'B', 'B') L\n",
      "Se adiciona ('E', 'B', 'L') L\n",
      "Se adiciona ('L', 'B', 'E') L\n",
      "Se adiciona ('0', 'E', 'L') L\n",
      "Se adiciona ('L', 'E', '0') L\n"
     ]
    },
    {
     "data": {
      "text/plain": [
       "{('0', 'P', 'P'): 'E',\n",
       " ('P', 'P', '0'): 'E',\n",
       " ('E', 'P', 'P'): 'B',\n",
       " ('P', 'P', 'E'): 'B',\n",
       " ('B', 'P', 'P'): 'B',\n",
       " ('P', 'P', 'B'): 'B',\n",
       " ('B', 'B', 'B'): 'L',\n",
       " ('E', 'B', 'L'): 'L',\n",
       " ('L', 'B', 'E'): 'L',\n",
       " ('0', 'E', 'L'): 'L',\n",
       " ('L', 'E', '0'): 'L'}"
      ]
     },
     "execution_count": 48,
     "metadata": {},
     "output_type": "execute_result"
    }
   ],
   "source": [
    "reglas={}\n",
    "d=ejemplo3\n",
    "for i in range(len(d)-1):\n",
    "    for j in range(1,len(d[0])-1):\n",
    "        #print(i,j)\n",
    "        if d[i][j][-1]!=d[i+1][j][-1]:\n",
    "            #prpone(d[i][j-1][-1],d[i][j][-1],d[i][j+1][-1],d[i+1][j][-1])\n",
    "            x=(d[i][j-1][-1][0],d[i][j][-1][0],d[i][j+1][-1][0])\n",
    "            y=d[i+1][j][-1][0]\n",
    "            if x in reglas:\n",
    "                if (reglas[x]==y):\n",
    "                    print('Ya existe',str(x),str(y))\n",
    "                else:\n",
    "                    print('en',str(x),'se contradice',str(y),'con',str(reglas[x]))\n",
    "            else:\n",
    "                print('Se adiciona',x,y)\n",
    "                reglas[x]=y\n",
    "                \n",
    "reglas                    \n",
    "        \n",
    "    "
   ]
  },
  {
   "cell_type": "code",
   "execution_count": 49,
   "metadata": {},
   "outputs": [
    {
     "data": {
      "text/plain": [
       "['0', '0', '0', '0', 'P', 'P', 'P', 'P', 'P', 'P', '0', '0', '0', '0']"
      ]
     },
     "execution_count": 49,
     "metadata": {},
     "output_type": "execute_result"
    }
   ],
   "source": [
    "dat1='0 0 0 0 P4 P5 P6 P7 P8 P9 0 0 0 0'.split()\n",
    "dat2=[a[0] for a in dat1]\n",
    "dat2"
   ]
  },
  {
   "cell_type": "code",
   "execution_count": 50,
   "metadata": {},
   "outputs": [
    {
     "data": {
      "text/plain": [
       "[['0', '0', '0', '0', 'P', 'P', 'P', 'P', 'P', 'P', '0', '0', '0', '0'],\n",
       " ['0', '0', '0', '0', 'PE', 'P', 'P', 'P', 'P', 'PE', '0', '0', '0', '0'],\n",
       " ['0', '0', '0', '0', 'PE', 'PB', 'P', 'P', 'PB', 'PE', '0', '0', '0', '0'],\n",
       " ['0', '0', '0', '0', 'PE', 'PB', 'PB', 'PB', 'PB', 'PE', '0', '0', '0', '0'],\n",
       " ['0',\n",
       "  '0',\n",
       "  '0',\n",
       "  '0',\n",
       "  'PE',\n",
       "  'PB',\n",
       "  'PBL',\n",
       "  'PBL',\n",
       "  'PB',\n",
       "  'PE',\n",
       "  '0',\n",
       "  '0',\n",
       "  '0',\n",
       "  '0'],\n",
       " ['0',\n",
       "  '0',\n",
       "  '0',\n",
       "  '0',\n",
       "  'PE',\n",
       "  'PBL',\n",
       "  'PBL',\n",
       "  'PBL',\n",
       "  'PBL',\n",
       "  'PE',\n",
       "  '0',\n",
       "  '0',\n",
       "  '0',\n",
       "  '0'],\n",
       " ['0',\n",
       "  '0',\n",
       "  '0',\n",
       "  '0',\n",
       "  'PEL',\n",
       "  'PBL',\n",
       "  'PBL',\n",
       "  'PBL',\n",
       "  'PBL',\n",
       "  'PEL',\n",
       "  '0',\n",
       "  '0',\n",
       "  '0',\n",
       "  '0'],\n",
       " ['0',\n",
       "  '0',\n",
       "  '0',\n",
       "  '0',\n",
       "  'PEL',\n",
       "  'PBL',\n",
       "  'PBL',\n",
       "  'PBL',\n",
       "  'PBL',\n",
       "  'PEL',\n",
       "  '0',\n",
       "  '0',\n",
       "  '0',\n",
       "  '0']]"
      ]
     },
     "execution_count": 50,
     "metadata": {},
     "output_type": "execute_result"
    }
   ],
   "source": [
    "dat3=[dat2]\n",
    "repetir=True\n",
    "i=0\n",
    "tope=100\n",
    "while(repetir):\n",
    "    dat3.append(['0'])\n",
    "    repetir=False\n",
    "    for j in range(1,len(dat3[i])-1):\n",
    "        x=(dat3[i][j-1][-1],dat3[i][j][-1],dat3[i][j+1][-1])\n",
    "        #y=dat3[i+1][j]\n",
    "        if x in reglas:\n",
    "            repetir=True\n",
    "            dat3[i+1].append(dat3[i][j]+reglas[x])\n",
    "        else:\n",
    "            dat3[i+1].append(dat3[i][j])\n",
    "    dat3[i+1].append('0')\n",
    "    i=i+1\n",
    "    tope=tope-1\n",
    "    if tope==0:break\n",
    "dat3"
   ]
  }
 ],
 "metadata": {
  "kernelspec": {
   "display_name": "Python 3",
   "language": "python",
   "name": "python3"
  },
  "language_info": {
   "codemirror_mode": {
    "name": "ipython",
    "version": 3
   },
   "file_extension": ".py",
   "mimetype": "text/x-python",
   "name": "python",
   "nbconvert_exporter": "python",
   "pygments_lexer": "ipython3",
   "version": "3.6.5"
  }
 },
 "nbformat": 4,
 "nbformat_minor": 2
}
